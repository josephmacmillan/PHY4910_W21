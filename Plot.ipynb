{
 "cells": [
  {
   "cell_type": "code",
   "execution_count": 1,
   "metadata": {},
   "outputs": [],
   "source": [
    "import matplotlib.pyplot as plt\n",
    "import numpy as np"
   ]
  },
  {
   "cell_type": "code",
   "execution_count": 15,
   "metadata": {},
   "outputs": [],
   "source": [
    "data = np.loadtxt(\"data.txt\", unpack = True)\n",
    "# We take the data from data.txt and then we make sure that the data is unpacked. \n",
    "# The returned array is transposed, so that arguments may be unpacked using x, y, z = loadtxt(...). \n",
    "# When used with a structured data-type, arrays are returned for each field."
   ]
  },
  {
   "cell_type": "code",
   "execution_count": 30,
   "metadata": {},
   "outputs": [
    {
     "name": "stdout",
     "output_type": "stream",
     "text": [
      "Do you want to manually modify the limits? Press y for yes, press anything else for non\n",
      "Press s to save, otherwise print \n",
      "n\n"
     ]
    },
    {
     "data": {
      "image/png": "[encoded data removed]",
      "text/plain": [
       "<Figure size 432x288 with 1 Axes>"
      ]
     },
     "metadata": {
      "needs_background": "light"
     },
     "output_type": "display_data"
    }
   ],
   "source": [
    "fig1 = plt.figure()\n",
    "# First we make a figure that can be saved or modified.\n",
    "\n",
    "choiceoflimits = input(\"Do you want to manually modify the limits? Press y for yes, press anything else for no\")\n",
    "\n",
    "if choiceoflimits == \"y\":\n",
    "    choicexlimitleft = input(\"Choose x limit(leftside): \")\n",
    "    choicexlimitright = input(\"Choose x limit(rightside): \")\n",
    "\n",
    "    choiceylimitleft = input(\"Choose y limit(leftside): \")\n",
    "    choiceylimitright = input(\"Choose y limit(rightside): \")\n",
    "    \n",
    "# Above asks for limits if user wants to input them\n",
    "\n",
    "plt.plot(data[0], data[1])\n",
    "plt.ylabel(\"$f(x)$\")\n",
    "plt.xlabel(\"$x$\")\n",
    "if choiceoflimits == \"y\":\n",
    "    plt.xlim((choicexlimitleft, choicexlimitright))\n",
    "    plt.ylim((choiceylimitleft, choiceylimitright))\n",
    "    \n",
    "# Plots the respective data.\n",
    "\n",
    "choicesave = input(\"Press s to save, otherwise print \\n\")\n",
    "# Asks the user whether they want to save a pdf of the plot or just print it.\n",
    "\n",
    "if choicesave == \"s\":\n",
    "    fig1.savefig(\"Plot.pdf\")\n",
    "else:\n",
    "    plt.show()\n",
    "# If the user types s then they will save the pdf otherwise the plot will be printed. "
   ]
  },
  {
   "cell_type": "code",
   "execution_count": null,
   "metadata": {},
   "outputs": [],
   "source": []
  }
 ],
 "metadata": {
  "kernelspec": {
   "display_name": "Python 3",
   "language": "python",
   "name": "python3"
  },
  "language_info": {
   "codemirror_mode": {
    "name": "ipython",
    "version": 3
   },
   "file_extension": ".py",
   "mimetype": "text/x-python",
   "name": "python",
   "nbconvert_exporter": "python",
   "pygments_lexer": "ipython3",
   "version": "3.6.5"
  }
 },
 "nbformat": 4,
 "nbformat_minor": 4
}
